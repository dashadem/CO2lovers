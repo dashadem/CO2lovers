{
 "cells": [
  {
   "cell_type": "code",
   "execution_count": 1,
   "id": "b3ec1c75-1a41-4cb4-9d28-edf175e8424a",
   "metadata": {},
   "outputs": [],
   "source": [
    "import numpy as np\n",
    "import matplotlib.pyplot as plt"
   ]
  },
  {
   "cell_type": "code",
   "execution_count": 2,
   "id": "8df71b3c-0642-4c14-a896-abf816bd2a6e",
   "metadata": {},
   "outputs": [],
   "source": [
    "def func(y, x, gamma):\n",
    "    # gamma = 0.86998\n",
    "    return np.array([y[1], -(gamma**2/2*x*y[1]+3*y[0]**2*y[1]**2)/y[0]**3])\n",
    "\n",
    "def rk4(f, y0, t, g):\n",
    "    n = len(t)\n",
    "    y = np.zeros((n, len(y0)))\n",
    "    y[0] = y0\n",
    "    for i in range(n - 1):\n",
    "        h = t[i+1] - t[i]\n",
    "        k1 = f(y[i], t[i], g)\n",
    "        k2 = f(y[i] + k1 * h / 2., t[i] + h / 2., g)\n",
    "        k3 = f(y[i] + k2 * h / 2., t[i] + h / 2., g)\n",
    "        k4 = f(y[i] + k3 * h, t[i] + h, g)\n",
    "        y[i+1] = y[i] + (h / 6.) * (k1 + 2*k2 + 2*k3 + k4)\n",
    "    return y"
   ]
  },
  {
   "cell_type": "code",
   "execution_count": 49,
   "id": "d2c82d36-c19d-45bd-b36e-654bbfb675c3",
   "metadata": {},
   "outputs": [
    {
     "name": "stdout",
     "output_type": "stream",
     "text": [
      "0.06786363171878035\n"
     ]
    },
    {
     "data": {
      "text/plain": [
       "0.8276074198427025"
      ]
     },
     "execution_count": 49,
     "metadata": {},
     "output_type": "execute_result"
    }
   ],
   "source": [
    "alpha = -0.311622\n",
    "y0 = np.array([1, alpha])\n",
    "solution = rk4(func, y0, xi, gamma0)\n",
    "print(solution[-1,0])\n",
    "\n",
    "gamma = 1 / np.sqrt(2*np.trapz(solution[:, 0], xi))\n",
    "gamma"
   ]
  },
  {
   "cell_type": "code",
   "execution_count": 50,
   "id": "16f47074-4567-407c-91d2-6337cc4b246c",
   "metadata": {},
   "outputs": [
    {
     "data": {
      "text/plain": [
       "array([1.        , 0.99933467, 0.99815093, 0.99637307, 0.99399838,\n",
       "       0.99102329, 0.98744331, 0.98325311, 0.97844647, 0.97301632,\n",
       "       0.96695474, 0.96025298, 0.95290145, 0.94488969, 0.93620646,\n",
       "       0.92683962, 0.91677618, 0.90600224, 0.89450294, 0.88226242,\n",
       "       0.8692637 , 0.85548858, 0.8409175 , 0.82552928, 0.80930092,\n",
       "       0.79220725, 0.77422046, 0.7553096 , 0.73543978, 0.71457128,\n",
       "       0.69265826, 0.66964707, 0.64547397, 0.62006201, 0.59331654,\n",
       "       0.56511887, 0.53531678, 0.50370999, 0.47002707, 0.43388698,\n",
       "       0.39473145, 0.3516991 , 0.30337864, 0.24734704, 0.18023673,\n",
       "       0.11900402, 0.10708204, 0.10075936, 0.07603308, 0.07900924,\n",
       "       0.06786363])"
      ]
     },
     "execution_count": 50,
     "metadata": {},
     "output_type": "execute_result"
    }
   ],
   "source": [
    "solution[:, 0]"
   ]
  },
  {
   "cell_type": "code",
   "execution_count": 14,
   "id": "ef1f6fe3-7309-4ff6-a595-adbd0421b362",
   "metadata": {},
   "outputs": [
    {
     "name": "stderr",
     "output_type": "stream",
     "text": [
      "C:\\Users\\User\\AppData\\Local\\Temp\\ipykernel_15512\\3596234661.py:3: RuntimeWarning: overflow encountered in scalar multiply\n",
      "  return np.array([y[1], -(gamma**2/2*x*y[1]+3*y[0]**2*y[1]**2)/y[0]**3])\n",
      "C:\\Users\\User\\AppData\\Local\\Temp\\ipykernel_15512\\3596234661.py:3: RuntimeWarning: invalid value encountered in scalar divide\n",
      "  return np.array([y[1], -(gamma**2/2*x*y[1]+3*y[0]**2*y[1]**2)/y[0]**3])\n"
     ]
    }
   ],
   "source": [
    "N = 50\n",
    "xi = np.cos(np.pi / (N+1) * (np.arange(1, N + 2) - 0.5)).astype(np.float64)\n",
    "xi[0], xi[-1] = 1, -1\n",
    "xi = xi[::-1] * 0.5 + 0.5\n",
    "\n",
    "alpha = -0.2\n",
    "y0 = np.array([1, alpha])\n",
    "gamma0 = 1\n",
    "solution = rk4(func, y0, xi, gamma0)\n",
    "\n",
    "# alphas = np.linspace(-0.001)\n",
    "T = 0\n",
    "\n",
    "eps = 1\n",
    "c = 0\n",
    "\n",
    "while eps > 10**(-6):\n",
    "    F = solution[-1,0] - T\n",
    "    y1 = np.array([1, alpha + 10**(-6)])\n",
    "    solution_1 = rk4(func, y1, xi, gamma0)\n",
    "    derF = ((solution_1[-1,0] - T) - F)/10**(-6)\n",
    "    alpha = alpha - F/derF\n",
    "    y = np.array([1, alpha])\n",
    "    solution = rk4(func, y, xi, gamma0)\n",
    "    c += 1\n",
    "    eps = np.abs(solution[-1, 0] - T)"
   ]
  },
  {
   "cell_type": "code",
   "execution_count": 15,
   "id": "02a951ad-cea0-4493-9e9c-40529e12eb2a",
   "metadata": {},
   "outputs": [
    {
     "name": "stdout",
     "output_type": "stream",
     "text": [
      "[1.00000000e+00 9.98827907e-01 9.96738099e-01 9.93588612e-01\n",
      " 9.89361253e-01 9.84030964e-01 9.77565058e-01 9.69922173e-01\n",
      " 9.61050845e-01 9.50887587e-01 9.39354285e-01 9.26354637e-01\n",
      " 9.11769210e-01 8.95448454e-01 8.77202582e-01 8.56786479e-01\n",
      " 8.33876405e-01 8.08032395e-01 7.78634226e-01 7.44764522e-01\n",
      " 7.04974845e-01 6.56754079e-01 5.95065984e-01 5.06769908e-01\n",
      " 3.25003060e-01 3.08722054e+02 7.31122964e+14 7.28220120e+34\n",
      " 3.02814339e+62            inf            nan            nan\n",
      "            nan            nan            nan            nan\n",
      "            nan            nan            nan            nan\n",
      "            nan            nan            nan            nan\n",
      "            nan            nan            nan            nan\n",
      "            nan            nan            nan]\n",
      "nan\n"
     ]
    },
    {
     "name": "stderr",
     "output_type": "stream",
     "text": [
      "C:\\Users\\User\\AppData\\Local\\Temp\\ipykernel_15512\\3596234661.py:3: RuntimeWarning: overflow encountered in scalar multiply\n",
      "  return np.array([y[1], -(gamma**2/2*x*y[1]+3*y[0]**2*y[1]**2)/y[0]**3])\n",
      "C:\\Users\\User\\AppData\\Local\\Temp\\ipykernel_15512\\3596234661.py:3: RuntimeWarning: invalid value encountered in scalar divide\n",
      "  return np.array([y[1], -(gamma**2/2*x*y[1]+3*y[0]**2*y[1]**2)/y[0]**3])\n"
     ]
    }
   ],
   "source": [
    "# x = np.linspace(0,1,200)\n",
    "N = 50\n",
    "xi = np.cos(np.pi / (N+1) * (np.arange(1, N + 2) - 0.5)).astype(np.float64)\n",
    "xi[0], xi[-1] = 1, -1\n",
    "xi = xi[::-1] * 0.5 + 0.5\n",
    "\n",
    "alpha = -0.2\n",
    "y0 = np.array([1, alpha])\n",
    "gamma0 = 1\n",
    "solution = rk4(func, y0, xi, gamma0)\n",
    "\n",
    "\n",
    "T = 0\n",
    "\n",
    "eps = 1\n",
    "c = 0\n",
    "\n",
    "while eps > 10**(-2):\n",
    "    F = solution[-1,0] - T\n",
    "    y1 = np.array([1, alpha + 10**(-6)])\n",
    "    solution_1 = rk4(func, y1, xi, gamma0)\n",
    "    derF = ((solution_1[-1,0] - T) - F)/10**(-6)\n",
    "    alpha = alpha - F/derF\n",
    "    y = np.array([1, alpha])\n",
    "    solution = rk4(func, y, xi, gamma0)\n",
    "    c += 1\n",
    "    eps = np.abs(solution[-1, 0] - T)\n",
    "\n",
    "\n",
    "# print(np.trapz(solution[:, 0], xi), alpha)\n",
    "# gamma = np.sqrt(np.abs(2*alpha/np.trapz(solution[:, 0], xi)))\n",
    "# gamma = np.sqrt(8*(solution[0,0]**3*solution[0,1] - solution[-1,0]**3*solution[-1,1])/alpha)\n",
    "# gamma = np.sqrt(2*(solution[-1,0]**3*solution[-1,1] - solution[0,1])/(np.trapz(solution[:, 0], xi) - solution[-1, 0]))\n",
    "# gamma = 2*solution[-1,0]**2#*solution[-1,1]\n",
    "# print(solution[-1,0])\n",
    "# eps_g = np.abs(gamma- gamma0)\n",
    "print(solution[:, 0])\n",
    "gamma = 1 / np.sqrt(2*np.trapz(solution[:, 0], xi))\n",
    "\n",
    "print(gamma)\n",
    "# print(solution[-1, 0], c, eps,gamma)"
   ]
  },
  {
   "cell_type": "code",
   "execution_count": 7,
   "id": "bb10f184-2d00-45b4-81cc-45e6dfce67cd",
   "metadata": {},
   "outputs": [
    {
     "data": {
      "text/plain": [
       "0.5999999971306168"
      ]
     },
     "execution_count": 7,
     "metadata": {},
     "output_type": "execute_result"
    },
    {
     "data": {
      "image/png": "[encoded data removed]",
      "text/plain": [
       "<Figure size 640x480 with 1 Axes>"
      ]
     },
     "metadata": {},
     "output_type": "display_data"
    }
   ],
   "source": [
    "plt.plot(xi,solution[:,0])\n",
    "solution[-1,0]"
   ]
  },
  {
   "cell_type": "code",
   "execution_count": 30,
   "id": "cebfb971-4783-4942-ac85-2ef29b2d2f0a",
   "metadata": {},
   "outputs": [
    {
     "data": {
      "text/plain": [
       "array([1.        , 0.99986832, 0.9996342 , 0.99928301, 0.9988147 ,\n",
       "       0.99822924, 0.99752658, 0.99670668, 0.99576945, 0.99471484,\n",
       "       0.99354278, 0.99225318, 0.99084596, 0.98932105, 0.98767837,\n",
       "       0.98591783, 0.98403937, 0.98204291, 0.97992841, 0.97769582,\n",
       "       0.97534511, 0.97287627, 0.97028929, 0.96758422, 0.96476111,\n",
       "       0.96182004, 0.95876114, 0.95558456, 0.95229051, 0.94887923,\n",
       "       0.94535103, 0.94170624, 0.93794529, 0.93406866, 0.93007689,\n",
       "       0.92597063, 0.92175057, 0.91741753, 0.9129724 , 0.90841618,\n",
       "       0.90374999, 0.89897507, 0.89409276, 0.88910456, 0.88401211,\n",
       "       0.8788172 , 0.87352179, 0.86812799, 0.86263811, 0.85705466,\n",
       "       0.85138034, 0.84561806, 0.83977098, 0.83384248, 0.82783621,\n",
       "       0.82175606, 0.81560622, 0.80939117, 0.80311568, 0.79678486,\n",
       "       0.79040412, 0.78397926, 0.7775164 , 0.77102204, 0.76450309,\n",
       "       0.75796681, 0.7514209 , 0.74487346, 0.738333  , 0.73180847,\n",
       "       0.72530924, 0.71884511, 0.7124263 , 0.70606346, 0.69976762,\n",
       "       0.69355023, 0.6874231 , 0.68139838, 0.67548854, 0.66970633,\n",
       "       0.66406473, 0.65857692, 0.65325619, 0.64811591, 0.64316945,\n",
       "       0.63843012, 0.63391105, 0.62962517, 0.62558507, 0.62180294,\n",
       "       0.61829048, 0.61505878, 0.61211827, 0.60947864, 0.6071487 ,\n",
       "       0.60513636, 0.60344853, 0.60209108, 0.60106878, 0.60038522,\n",
       "       0.6       ])"
      ]
     },
     "execution_count": 30,
     "metadata": {},
     "output_type": "execute_result"
    }
   ],
   "source": [
    "solution[:,0]"
   ]
  },
  {
   "cell_type": "code",
   "execution_count": 102,
   "id": "5f70dcc9-f765-4aa7-9d47-9d70ec5a31a5",
   "metadata": {},
   "outputs": [],
   "source": [
    "def func(y, x):\n",
    "    gamma = 0.86998\n",
    "    return np.array([y[1], -(gamma**2/2*x*y[1]+3*y[0]**2*y[1]**2)/y[0]**3])\n",
    "\n",
    "def rk4(f, y0, t):\n",
    "    n = len(t)\n",
    "    y = np.zeros((n, len(y0)))\n",
    "    y[0] = y0\n",
    "    for i in range(n - 1):\n",
    "        h = t[i+1] - t[i]\n",
    "        k1 = f(y[i], t[i])\n",
    "        k2 = f(y[i] + k1 * h / 2., t[i] + h / 2.)\n",
    "        k3 = f(y[i] + k2 * h / 2., t[i] + h / 2.)\n",
    "        k4 = f(y[i] + k3 * h, t[i] + h)\n",
    "        y[i+1] = y[i] + (h / 6.) * (k1 + 2*k2 + 2*k3 + k4)\n",
    "    return y\n",
    "\n",
    "def get_init_solution(x, T):\n",
    "    alphas = np.linspace(-0.28969, -0.01, 1000)\n",
    "    for alpha in alphas:\n",
    "        y0 = np.array([1, alpha])\n",
    "        solution = rk4(func, y0, x)\n",
    "        if np.abs(solution[-1,0] - T) < 10**(-3):\n",
    "            break\n",
    "    return solution[:,0]\n",
    "\n",
    "N = 50\n",
    "\n",
    "xi = np.cos(np.pi / (N+1) * (np.arange(1, N + 2) - 0.5)).astype(np.float64)\n",
    "xi[0], xi[-1] = 1, -1\n",
    "xi = xi[::-1] * 0.5 + 0.5\n",
    "# xi = 0.5 * (xi[1:] + xi[:-1])\n",
    "sgnB = 1\n",
    "T = 0.4\n",
    "\n",
    "W0 = get_init_solution(xi, T)[1:-1]\n",
    "xi = xi[1:-1]"
   ]
  },
  {
   "cell_type": "code",
   "execution_count": 105,
   "id": "860a269e-63a3-4acf-ac49-fea46bbd68da",
   "metadata": {},
   "outputs": [
    {
     "data": {
      "text/plain": [
       "0.36814623165925253"
      ]
     },
     "execution_count": 105,
     "metadata": {},
     "output_type": "execute_result"
    },
    {
     "data": {
      "image/png": "[encoded data removed]",
      "text/plain": [
       "<Figure size 640x480 with 1 Axes>"
      ]
     },
     "metadata": {},
     "output_type": "display_data"
    }
   ],
   "source": [
    "plt.plot(xi,W0)\n",
    "# plt.plot(solution[:,1])\n",
    "solution[-1,0]"
   ]
  },
  {
   "cell_type": "code",
   "execution_count": 7,
   "id": "bca43b15-e46e-4052-991d-8705d9061fcb",
   "metadata": {},
   "outputs": [
    {
     "data": {
      "text/plain": [
       "array([0.00000000e+00, 5.44127579e-04, 1.51097809e-03, 2.96008453e-03,\n",
       "       4.89004499e-03, 7.29899236e-03, 1.01845961e-02, 1.35440647e-02,\n",
       "       1.73741479e-02, 2.16711405e-02, 2.64308853e-02, 3.16487777e-02,\n",
       "       3.73197697e-02, 4.34383749e-02, 4.99986740e-02, 5.69943203e-02,\n",
       "       6.44185460e-02, 7.22641686e-02, 8.05235980e-02, 8.91888437e-02,\n",
       "       9.82515227e-02, 1.07702867e-01, 1.17533734e-01, 1.27734612e-01,\n",
       "       1.38295633e-01, 1.49206580e-01, 1.60456897e-01, 1.72035699e-01,\n",
       "       1.83931786e-01, 1.96133648e-01, 2.08629482e-01, 2.21407198e-01,\n",
       "       2.34454434e-01, 2.47758568e-01, 2.61306730e-01, 2.75085812e-01,\n",
       "       2.89082484e-01, 3.03283205e-01, 3.17674237e-01, 3.32241657e-01,\n",
       "       3.46971373e-01, 3.61849134e-01, 3.76860547e-01, 3.91991089e-01,\n",
       "       4.07226123e-01, 4.22550910e-01, 4.37950624e-01, 4.53410366e-01,\n",
       "       4.68915181e-01, 4.84450069e-01, 5.00000000e-01, 5.15549931e-01,\n",
       "       5.31084819e-01, 5.46589634e-01, 5.62049376e-01, 5.77449090e-01,\n",
       "       5.92773877e-01, 6.08008911e-01, 6.23139453e-01, 6.38150866e-01,\n",
       "       6.53028627e-01, 6.67758343e-01, 6.82325763e-01, 6.96716795e-01,\n",
       "       7.10917516e-01, 7.24914188e-01, 7.38693270e-01, 7.52241432e-01,\n",
       "       7.65545566e-01, 7.78592802e-01, 7.91370518e-01, 8.03866352e-01,\n",
       "       8.16068214e-01, 8.27964301e-01, 8.39543103e-01, 8.50793420e-01,\n",
       "       8.61704367e-01, 8.72265388e-01, 8.82466266e-01, 8.92297133e-01,\n",
       "       9.01748477e-01, 9.10811156e-01, 9.19476402e-01, 9.27735831e-01,\n",
       "       9.35581454e-01, 9.43005680e-01, 9.50001326e-01, 9.56561625e-01,\n",
       "       9.62680230e-01, 9.68351222e-01, 9.73569115e-01, 9.78328860e-01,\n",
       "       9.82625852e-01, 9.86455935e-01, 9.89815404e-01, 9.92701008e-01,\n",
       "       9.95109955e-01, 9.97039915e-01, 9.98489022e-01, 9.99455872e-01,\n",
       "       1.00000000e+00])"
      ]
     },
     "execution_count": 7,
     "metadata": {},
     "output_type": "execute_result"
    }
   ],
   "source": [
    "xi = np.cos(np.pi / (N+1) * (np.arange(1, N + 2) - 0.5)).astype(np.float64)\n",
    "xi[0], xi[-1] = 1, -1\n",
    "xi = xi[::-1] * 0.5 + 0.5\n",
    "xi"
   ]
  }
 ],
 "metadata": {
  "kernelspec": {
   "display_name": "Python 3 (ipykernel)",
   "language": "python",
   "name": "python3"
  },
  "language_info": {
   "codemirror_mode": {
    "name": "ipython",
    "version": 3
   },
   "file_extension": ".py",
   "mimetype": "text/x-python",
   "name": "python",
   "nbconvert_exporter": "python",
   "pygments_lexer": "ipython3",
   "version": "3.8.10"
  }
 },
 "nbformat": 4,
 "nbformat_minor": 5
}
